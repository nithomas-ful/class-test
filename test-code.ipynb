# Import the plotting library
import matplotlib.pyplot as plt

# Create a list of numbers from 1 to 10
numbers = list(range(1, 11))

# Compute the square of each number
squares = [x**2 for x in numbers]

# Print the results
for num, sq in zip(numbers, squares):
    print(f"{num} squared is {sq}")

# Plot the numbers and their squares
plt.plot(numbers, squares, marker='o')
plt.title("Numbers and Their Squares")
plt.xlabel("Number")
plt.ylabel("Square")
plt.grid(True)
plt.show()
